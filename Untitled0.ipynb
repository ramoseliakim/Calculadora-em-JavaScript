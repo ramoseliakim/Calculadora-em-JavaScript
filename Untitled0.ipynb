{
  "nbformat": 4,
  "nbformat_minor": 0,
  "metadata": {
    "colab": {
      "provenance": [],
      "authorship_tag": "ABX9TyPxNc4eXtMagzqfUZane0Hb",
      "include_colab_link": true
    },
    "kernelspec": {
      "name": "python3",
      "display_name": "Python 3"
    },
    "language_info": {
      "name": "python"
    }
  },
  "cells": [
    {
      "cell_type": "markdown",
      "metadata": {
        "id": "view-in-github",
        "colab_type": "text"
      },
      "source": [
        "<a href=\"https://colab.research.google.com/github/ramoseliakim/Calculadora-em-JavaScript/blob/master/Untitled0.ipynb\" target=\"_parent\"><img src=\"https://colab.research.google.com/assets/colab-badge.svg\" alt=\"Open In Colab\"/></a>"
      ]
    },
    {
      "cell_type": "code",
      "execution_count": 35,
      "metadata": {
        "colab": {
          "base_uri": "https://localhost:8080/"
        },
        "id": "-_cD-mWQRKEv",
        "outputId": "976eed88-9c35-4572-b690-cd50b88161ce"
      },
      "outputs": [
        {
          "output_type": "stream",
          "name": "stdout",
          "text": [
            "Prato de entrada:  Salada de beringela\n",
            "Prato Principal:  Picanha ao alho com arroz integral\n",
            "Sobremesa:  Salada de frutas\n",
            "Bebida:  Suco de laranja\n",
            "Valor prato entrada: R$ 15.0\n",
            "Valor prato principal: R$ 160.0\n",
            "valor sobremesa: R$ 10.0\n",
            "Valor bebida: R$ 3.0\n",
            "valor em carteira: R$ 100\n",
            "Total do almoço:  188.0\n",
            "Total do almoço com o percentual do garçon: 206.8\n",
            "Não tenho saldo!! Meu amigo, você pode me ajudar?\n",
            "Onde lavamos os pratos?\n"
          ]
        }
      ],
      "source": [
        "#Programa da conta do almoço\n",
        "#variaveis\n",
        "pratoEntrada = \"Salada de beringela\"\n",
        "pratoPrincipal = \"Picanha ao alho com arroz integral\"\n",
        "sobremesa = \"Salada de frutas\"\n",
        "bebida = \"Suco de laranja\"\n",
        "precoEntrada = 15.00\n",
        "precoPratoPrincipal = 160.00\n",
        "precoSobremesa = 10.00\n",
        "precoBebida = 3.00\n",
        "orcamento = 100\n",
        "bomAmigo = False\n",
        "\n",
        "#valores menu\n",
        "print(\"Prato de entrada: \",pratoEntrada)\n",
        "print(\"Prato Principal: \",pratoPrincipal)\n",
        "print(\"Sobremesa: \",sobremesa)\n",
        "print(\"Bebida: \",bebida)\n",
        "print(\"Valor prato entrada: R$\",precoEntrada)\n",
        "print(\"Valor prato principal: R$\",precoPratoPrincipal)\n",
        "print(\"valor sobremesa: R$\",precoSobremesa)\n",
        "print(\"Valor bebida: R$\",precoBebida)\n",
        "print(\"valor em carteira: R$\",orcamento)\n",
        "#calculo da conta\n",
        "valorTotalAlmoco = precoEntrada + precoPratoPrincipal + precoSobremesa + precoBebida\n",
        "\n",
        "print(\"Total do almoço: \",valorTotalAlmoco)\n",
        "percentualGarcon = ((10/100)* valorTotalAlmoco) + valorTotalAlmoco\n",
        "\n",
        "print(\"Total do almoço com o percentual do garçon:\", percentualGarcon)\n",
        "#calculando a conta\n",
        "if(percentualGarcon<=100):\n",
        "    print(\"Almoço pago, obrigado e volte sempre!\")\n",
        "else:\n",
        "    print(\"Não tenho saldo!! Meu amigo, você pode me ajudar?\")\n",
        "  #amigo ajuda ou nao\n",
        "    if (bomAmigo == True):\n",
        "      print(\"Amigo tudo certo, a proxima voce paga!\")\n",
        "    else:\n",
        "      print(\"Onde lavamos os pratos?\")\n",
        "\n"
      ]
    }
  ]
}